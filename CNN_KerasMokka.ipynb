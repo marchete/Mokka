{
 "cells": [
  {
   "cell_type": "code",
   "execution_count": 1,
   "metadata": {},
   "outputs": [
    {
     "name": "stdout",
     "output_type": "stream",
     "text": [
      "1 Physical GPUs, 1 Logical GPUs\n"
     ]
    }
   ],
   "source": [
    "from __future__ import absolute_import, division, print_function, unicode_literals\n",
    "\n",
    "import tensorflow as tf\n",
    "gpus = tf.config.experimental.list_physical_devices('GPU')\n",
    "if gpus:\n",
    "  try:\n",
    "    # Currently, memory growth needs to be the same across GPUs\n",
    "    for gpu in gpus:\n",
    "      tf.config.experimental.set_memory_growth(gpu, True)\n",
    "    logical_gpus = tf.config.experimental.list_logical_devices('GPU')\n",
    "    print(len(gpus), \"Physical GPUs,\", len(logical_gpus), \"Logical GPUs\")\n",
    "  except RuntimeError as e:\n",
    "    # Memory growth must be set before GPUs have been initialized\n",
    "    print(e)\n",
    "\n",
    "from tensorflow.keras import datasets, layers, models\n",
    "import matplotlib.pyplot as plt\n",
    "import numpy as np\n",
    "import base64\n"
   ]
  },
  {
   "cell_type": "code",
   "execution_count": 2,
   "metadata": {},
   "outputs": [],
   "source": [
    "(train_images, train_labels), (test_images, test_labels) = tf.keras.datasets.mnist.load_data()\n",
    "\n",
    "train_images = train_images.reshape(train_images.shape[0], 28, 28, 1)\n",
    "test_images = test_images.reshape(test_images.shape[0], 28, 28, 1)\n",
    "\n",
    "train_images = train_images.astype('float32')\n",
    "test_images = test_images.astype('float32')\n",
    "\n",
    "# Normalize pixel values to be between 0 and 1\n",
    "train_images, test_images = train_images / 255.0, test_images / 255.0"
   ]
  },
  {
   "cell_type": "code",
   "execution_count": 3,
   "metadata": {},
   "outputs": [
    {
     "data": {
      "image/png": "[encoded data removed]",
      "text/plain": [
       "<Figure size 720x720 with 25 Axes>"
      ]
     },
     "metadata": {},
     "output_type": "display_data"
    }
   ],
   "source": [
    "class_names = ['0', '1', '2', '3', '4',\n",
    "               '5', '6', '7', '8', '9']\n",
    "\n",
    "plt.figure(figsize=(10,10))\n",
    "for i in range(25):\n",
    "    plt.subplot(5,5,i+1)\n",
    "    plt.xticks([])\n",
    "    plt.yticks([])\n",
    "    plt.grid(False)\n",
    "    plt.imshow(X=np.squeeze(train_images[i]), cmap=plt.cm.binary)\n",
    "    plt.xlabel(class_names[train_labels[i]])\n",
    "#plt.show()"
   ]
  },
  {
   "cell_type": "code",
   "execution_count": 4,
   "metadata": {},
   "outputs": [],
   "source": [
    "model = models.Sequential()\n",
    "model.add(layers.Conv2D(filters=32,kernel_size=(3, 3)\n",
    "                        ,strides=(2,2)\n",
    "                        ,name='Conv1', activation='relu', input_shape=(28, 28, 1)))\n",
    "#model.add(layers.MaxPooling2D((2, 2),name='Pool1'))\n",
    "model.add(layers.Conv2D(filters=64, kernel_size=(3, 3)\n",
    "                        ,strides=(2,2)\n",
    "                        ,name='Conv2', activation='relu'))\n",
    "#model.add(layers.MaxPooling2D((2, 2),name='Pool2'))\n",
    "model.add(layers.Conv2D(filters=32, kernel_size=(3, 3) ,strides=(1,1)\n",
    "                        ,name='Conv3', activation='relu'))\n",
    "model.add(layers.Flatten(name='Flatten'))\n",
    "model.add(layers.Dense(64,name='Dense', activation='relu'))\n",
    "model.add(layers.Dense(10,name='Soft', activation='softmax'))"
   ]
  },
  {
   "cell_type": "code",
   "execution_count": 5,
   "metadata": {},
   "outputs": [
    {
     "name": "stdout",
     "output_type": "stream",
     "text": [
      "Model: \"sequential\"\n",
      "_________________________________________________________________\n",
      "Layer (type)                 Output Shape              Param #   \n",
      "=================================================================\n",
      "Conv1 (Conv2D)               (None, 13, 13, 32)        320       \n",
      "_________________________________________________________________\n",
      "Conv2 (Conv2D)               (None, 6, 6, 64)          18496     \n",
      "_________________________________________________________________\n",
      "Conv3 (Conv2D)               (None, 4, 4, 32)          18464     \n",
      "_________________________________________________________________\n",
      "Flatten (Flatten)            (None, 512)               0         \n",
      "_________________________________________________________________\n",
      "Dense (Dense)                (None, 64)                32832     \n",
      "_________________________________________________________________\n",
      "Soft (Dense)                 (None, 10)                650       \n",
      "=================================================================\n",
      "Total params: 70,762\n",
      "Trainable params: 70,762\n",
      "Non-trainable params: 0\n",
      "_________________________________________________________________\n"
     ]
    }
   ],
   "source": [
    "model.summary()"
   ]
  },
  {
   "cell_type": "code",
   "execution_count": 6,
   "metadata": {},
   "outputs": [],
   "source": [
    "model.compile(optimizer='adam',\n",
    "              loss='sparse_categorical_crossentropy',\n",
    "              metrics=['accuracy'])"
   ]
  },
  {
   "cell_type": "code",
   "execution_count": 7,
   "metadata": {
    "scrolled": false
   },
   "outputs": [
    {
     "name": "stdout",
     "output_type": "stream",
     "text": [
      "Train on 60000 samples, validate on 10000 samples\n",
      "Epoch 1/10\n",
      "60000/60000 [==============================] - 6s 99us/sample - loss: 0.1765 - accuracy: 0.9462 - val_loss: 0.0612 - val_accuracy: 0.9803\n",
      "Epoch 2/10\n",
      "60000/60000 [==============================] - 4s 62us/sample - loss: 0.0564 - accuracy: 0.9826 - val_loss: 0.0485 - val_accuracy: 0.9849\n",
      "Epoch 3/10\n",
      "60000/60000 [==============================] - 4s 61us/sample - loss: 0.0389 - accuracy: 0.9874 - val_loss: 0.0409 - val_accuracy: 0.9869\n",
      "Epoch 4/10\n",
      "60000/60000 [==============================] - 4s 61us/sample - loss: 0.0286 - accuracy: 0.9910 - val_loss: 0.0322 - val_accuracy: 0.9900\n",
      "Epoch 5/10\n",
      "60000/60000 [==============================] - 4s 62us/sample - loss: 0.0231 - accuracy: 0.9930 - val_loss: 0.0337 - val_accuracy: 0.9899\n",
      "Epoch 6/10\n",
      "60000/60000 [==============================] - 4s 61us/sample - loss: 0.0182 - accuracy: 0.9944 - val_loss: 0.0355 - val_accuracy: 0.9897\n",
      "Epoch 7/10\n",
      "60000/60000 [==============================] - 4s 61us/sample - loss: 0.0156 - accuracy: 0.9952 - val_loss: 0.0402 - val_accuracy: 0.9888\n",
      "Epoch 8/10\n",
      "60000/60000 [==============================] - 4s 61us/sample - loss: 0.0124 - accuracy: 0.9962 - val_loss: 0.0390 - val_accuracy: 0.9889\n",
      "Epoch 9/10\n",
      "60000/60000 [==============================] - 4s 63us/sample - loss: 0.0119 - accuracy: 0.9959 - val_loss: 0.0455 - val_accuracy: 0.9884\n",
      "Epoch 10/10\n",
      "60000/60000 [==============================] - 4s 61us/sample - loss: 0.0105 - accuracy: 0.9965 - val_loss: 0.0466 - val_accuracy: 0.9889\n"
     ]
    }
   ],
   "source": [
    "history = model.fit(train_images, train_labels, epochs=10,validation_data=(test_images, test_labels))\n",
    "#history = model.fit(train_images, train_labels, epochs=10)"
   ]
  },
  {
   "cell_type": "code",
   "execution_count": 10,
   "metadata": {},
   "outputs": [
    {
     "name": "stdout",
     "output_type": "stream",
     "text": [
      "8    8\n"
     ]
    }
   ],
   "source": [
    "image_index = 4478\n",
    "pred = model.predict(test_images[image_index].reshape(1, 28, 28, 1))\n",
    "print(pred.argmax(),\"  \",test_labels[image_index])"
   ]
  },
  {
   "cell_type": "code",
   "execution_count": 11,
   "metadata": {},
   "outputs": [
    {
     "data": {
      "text/plain": [
       "<matplotlib.image.AxesImage at 0x1c98bf24e10>"
      ]
     },
     "execution_count": 11,
     "metadata": {},
     "output_type": "execute_result"
    },
    {
     "data": {
      "image/png": "[encoded data removed]",
      "text/plain": [
       "<Figure size 432x288 with 1 Axes>"
      ]
     },
     "metadata": {
      "needs_background": "light"
     },
     "output_type": "display_data"
    }
   ],
   "source": [
    "plt.imshow(test_images[image_index].reshape(28, 28),cmap='Greys')"
   ]
  },
  {
   "cell_type": "code",
   "execution_count": 12,
   "metadata": {},
   "outputs": [],
   "source": [
    "def SaveModel(my_model,fileSTR):\n",
    "    totalbytes=0\n",
    "    data=[]\n",
    "    Wmodel = open(\"./Mokka/\"+fileSTR+\".weights\", \"wb\")\n",
    "    for x in my_model.weights:\n",
    "        nn = x.numpy()\n",
    "        T = nn\n",
    "        #if (nn.ndim == 4):\n",
    "        #    T = np.transpose(nn, (3,0,1,2))\n",
    "        #elif (nn.ndim == 3):\n",
    "        #    T = np.transpose(nn, (2,0,1))\n",
    "        #else:\n",
    "        #    T = nn.transpose()\n",
    "        v = np.ndarray.tobytes(T)\n",
    "        Wmodel.write(bytearray(v))\n",
    "        totalbytes+=len(v)\n",
    "        print(x.name, len(v),\" dims:\",nn.ndim,\" \", T.shape)\n",
    "        #if \"bias\" in x.name:\n",
    "         #   print(T)\n",
    "        data.append(base64.b64encode(v).decode(\"utf-8\"))\n",
    "    Wmodel.close()\n",
    "    print(\"Total bytes:\"+str(totalbytes))"
   ]
  },
  {
   "cell_type": "code",
   "execution_count": 13,
   "metadata": {},
   "outputs": [
    {
     "name": "stdout",
     "output_type": "stream",
     "text": [
      "Conv1/kernel:0 1152  dims: 4   (3, 3, 1, 32)\n",
      "Conv1/bias:0 128  dims: 1   (32,)\n",
      "Conv2/kernel:0 73728  dims: 4   (3, 3, 32, 64)\n",
      "Conv2/bias:0 256  dims: 1   (64,)\n",
      "Conv3/kernel:0 73728  dims: 4   (3, 3, 64, 32)\n",
      "Conv3/bias:0 128  dims: 1   (32,)\n",
      "Dense/kernel:0 131072  dims: 2   (512, 64)\n",
      "Dense/bias:0 256  dims: 1   (64,)\n",
      "Soft/kernel:0 2560  dims: 2   (64, 10)\n",
      "Soft/bias:0 40  dims: 1   (10,)\n",
      "Total bytes:283048\n"
     ]
    }
   ],
   "source": [
    "SaveModel(model,\"PRUEBA\")"
   ]
  },
  {
   "cell_type": "code",
   "execution_count": 14,
   "metadata": {},
   "outputs": [
    {
     "data": {
      "text/plain": [
       "[<tf.Variable 'Conv1/kernel:0' shape=(3, 3, 1, 32) dtype=float32, numpy=\n",
       " array([[[[ 0.00428652, -0.02534824,  0.0401081 ,  0.14545661,\n",
       "            0.03626338, -0.37757576, -0.15422614,  0.28529832,\n",
       "            0.023997  , -0.22535397, -0.22473803, -0.05056885,\n",
       "           -0.05566123, -0.17337723,  0.08629384,  0.00103101,\n",
       "            0.03437   ,  0.14458999, -0.3761369 , -0.01996945,\n",
       "            0.09413728, -0.29786575,  0.10194764, -0.05587458,\n",
       "            0.00385715, -0.16938967,  0.32116187, -0.14374827,\n",
       "            0.16489209, -0.11288478, -0.16330333, -0.15048423]],\n",
       " \n",
       "         [[ 0.0349367 , -0.39630228, -0.09551033,  0.21419804,\n",
       "            0.12197744, -0.22036763, -0.04467951,  0.29693276,\n",
       "           -0.06049857, -0.39676476,  0.12726691, -0.16862194,\n",
       "           -0.01263065,  0.1223572 ,  0.10925867,  0.30945104,\n",
       "            0.0892119 ,  0.08325844, -0.03921682, -0.1383789 ,\n",
       "           -0.05617411,  0.09179575, -0.10880419, -0.23624946,\n",
       "            0.06603757,  0.02460124, -0.22991176, -0.43462896,\n",
       "            0.11925407,  0.23939164, -0.20432784,  0.0855993 ]],\n",
       " \n",
       "         [[ 0.03937543, -0.46936876,  0.02344681, -0.01637441,\n",
       "            0.49386048, -0.27612355,  0.0181556 ,  0.12719977,\n",
       "            0.01598847, -0.09881831, -0.03037662, -0.03896454,\n",
       "            0.02578842, -0.21293539,  0.02643934,  0.34627676,\n",
       "           -0.15522906,  0.23204668, -0.00234131, -0.1392561 ,\n",
       "            0.2866376 ,  0.24657504, -0.07948538,  0.0433786 ,\n",
       "           -0.17490649, -0.36747444, -0.3054583 , -0.26624402,\n",
       "           -0.10003167,  0.01675715, -0.20362413, -0.30777726]]],\n",
       " \n",
       " \n",
       "        [[[-0.002916  ,  0.22703375, -0.0265367 ,  0.0134333 ,\n",
       "           -0.40240723, -0.21851628, -0.15018576, -0.17614609,\n",
       "            0.21752632, -0.2130244 ,  0.17323197,  0.132743  ,\n",
       "            0.06163226,  0.08705955,  0.16021857,  0.08993017,\n",
       "            0.11341047,  0.06765935, -0.15803099,  0.17223285,\n",
       "            0.1015756 , -0.33883846, -0.05770055, -0.18788032,\n",
       "            0.06833714,  0.16365919,  0.01895619,  0.04913601,\n",
       "            0.19649039, -0.08444279,  0.16854684,  0.01544486]],\n",
       " \n",
       "         [[-0.00206965,  0.04802787,  0.09225687,  0.20414239,\n",
       "           -0.18559377, -0.21768545,  0.22948952,  0.14490551,\n",
       "            0.05062617,  0.0187175 ,  0.13727449,  0.01603371,\n",
       "            0.06147927,  0.45142505,  0.03677088, -0.16030146,\n",
       "            0.26012418,  0.21296187,  0.33268082,  0.17011014,\n",
       "            0.02408766, -0.14907105,  0.14748442, -0.24167977,\n",
       "            0.25486907,  0.46040085, -0.6236897 ,  0.13678643,\n",
       "            0.03330848, -0.00742361,  0.3866853 ,  0.11451978]],\n",
       " \n",
       "         [[ 0.07952733, -0.15438882,  0.00947565,  0.07731613,\n",
       "           -0.15123332, -0.09947511,  0.15376124,  0.01483479,\n",
       "            0.02836041,  0.09679047, -0.00426212,  0.13358298,\n",
       "           -0.17106952,  0.22109817, -0.15539375, -0.10483169,\n",
       "            0.21471408,  0.05541258,  0.29915595,  0.19301207,\n",
       "            0.29098397,  0.3559479 , -0.11876396, -0.07732766,\n",
       "            0.06923652,  0.06552345,  0.12606263,  0.10703275,\n",
       "           -0.4010392 ,  0.21769525,  0.30543914, -0.04882673]]],\n",
       " \n",
       " \n",
       "        [[[ 0.00231921,  0.13578098, -0.08679896, -0.21526693,\n",
       "           -0.31636423, -0.08703631,  0.11184007, -0.44559634,\n",
       "            0.08484539, -0.23459023,  0.02523783, -0.18153977,\n",
       "           -0.01346595, -0.0034982 ,  0.10373178, -0.27120662,\n",
       "           -0.16131037, -0.08970307, -0.05981601,  0.03716788,\n",
       "           -0.2598069 , -0.14050253, -0.29169512,  0.4027018 ,\n",
       "           -0.0551271 , -0.2928827 , -0.5634188 ,  0.28366998,\n",
       "            0.30567658, -0.24800216,  0.03546379, -0.09812424]],\n",
       " \n",
       "         [[-0.10392772,  0.3062366 ,  0.02998091,  0.18424082,\n",
       "           -0.29272994,  0.27830252,  0.26249856, -0.29786897,\n",
       "           -0.00620002,  0.34235924, -0.00678168, -0.17083132,\n",
       "           -0.00492346,  0.08157043,  0.12688091, -0.4004422 ,\n",
       "           -0.05207098, -0.16371584,  0.17629954,  0.04921679,\n",
       "           -0.44519517, -0.12802985,  0.12812515,  0.27639788,\n",
       "            0.02992884, -0.03255113, -0.10982138,  0.20511544,\n",
       "            0.01170483, -0.04634091, -0.09290382,  0.14883435]],\n",
       " \n",
       "         [[-0.0816247 ,  0.24477178, -0.1676269 , -0.15906626,\n",
       "           -0.60388505,  0.1305319 , -0.05933811, -0.00178749,\n",
       "           -0.21763168,  0.20231567,  0.02506712, -0.04376779,\n",
       "           -0.04324744, -0.08397791, -0.21346425, -0.09346437,\n",
       "            0.02811578, -0.33347625, -0.07068595, -0.20937432,\n",
       "           -0.1212957 ,  0.26051   ,  0.12030172, -0.1166667 ,\n",
       "           -0.04406852, -0.03848875,  0.4218699 ,  0.07319108,\n",
       "           -0.3924856 ,  0.19995832,  0.00832928,  0.02717122]]]],\n",
       "       dtype=float32)>,\n",
       " <tf.Variable 'Conv1/bias:0' shape=(32,) dtype=float32, numpy=\n",
       " array([-0.15841557, -0.00880035, -0.0954778 , -0.13956377,  0.11297552,\n",
       "         0.02568621, -0.10735751, -0.0063265 , -0.05351158, -0.02176913,\n",
       "        -0.16364814, -0.11040124, -0.07538734, -0.11406737, -0.03603285,\n",
       "         0.01322907, -0.09846548, -0.03570327, -0.02017315, -0.04159151,\n",
       "        -0.02176618, -0.03200713, -0.09109568, -0.01674238, -0.13082038,\n",
       "        -0.01780703,  0.08360655, -0.01171825, -0.01530647, -0.09065225,\n",
       "        -0.0454067 , -0.06485343], dtype=float32)>]"
      ]
     },
     "execution_count": 14,
     "metadata": {},
     "output_type": "execute_result"
    }
   ],
   "source": [
    "model.get_layer('Conv1').weights"
   ]
  },
  {
   "cell_type": "code",
   "execution_count": 15,
   "metadata": {},
   "outputs": [
    {
     "data": {
      "text/plain": [
       "[<tf.Variable 'Conv2/kernel:0' shape=(3, 3, 32, 64) dtype=float32, numpy=\n",
       " array([[[[-5.72624616e-02,  1.46796525e-01, -5.79835884e-02, ...,\n",
       "            6.30009100e-02,  1.31230265e-01,  7.70907570e-03],\n",
       "          [ 1.53200194e-01, -3.62400413e-01, -5.19408435e-02, ...,\n",
       "           -1.57760397e-01,  1.44163504e-01,  1.58265367e-01],\n",
       "          [-3.09437122e-02, -1.16035774e-01, -4.64489870e-02, ...,\n",
       "            7.43999779e-02,  2.03394413e-01,  1.96823925e-02],\n",
       "          ...,\n",
       "          [ 1.36275310e-03,  7.53517747e-02, -8.58676061e-02, ...,\n",
       "            8.22746307e-02,  9.66891926e-03, -2.60847192e-02],\n",
       "          [ 4.46237549e-02, -2.32878268e-01, -2.55481184e-01, ...,\n",
       "            1.59380034e-01,  1.11590400e-01, -1.11171216e-01],\n",
       "          [ 9.85135958e-02, -4.89137545e-02, -2.90746748e-01, ...,\n",
       "           -3.58690098e-02,  2.50683967e-02, -1.26565516e-01]],\n",
       " \n",
       "         [[-1.01835160e-02, -9.30203125e-02,  3.38603780e-02, ...,\n",
       "            1.71162754e-01,  1.29620269e-01, -3.82237695e-02],\n",
       "          [ 7.53634125e-02,  2.62175143e-01, -2.56061167e-01, ...,\n",
       "           -9.33443233e-02,  6.59694895e-02,  1.23861611e-01],\n",
       "          [-9.64688361e-02, -1.26034647e-01, -8.75769630e-02, ...,\n",
       "            5.33045344e-02,  9.69872996e-02, -9.57117230e-02],\n",
       "          ...,\n",
       "          [ 2.62501426e-02, -3.34638283e-02,  6.39327392e-02, ...,\n",
       "            2.04736501e-01, -5.70387691e-02, -1.42491698e-01],\n",
       "          [ 2.84989886e-02,  5.47049269e-02, -1.92366377e-01, ...,\n",
       "            1.61259249e-01,  5.66727966e-02, -2.48577490e-01],\n",
       "          [ 1.53264701e-01,  1.42583534e-01, -4.38539349e-02, ...,\n",
       "            1.53773185e-02,  5.05800284e-02,  2.28432473e-02]],\n",
       " \n",
       "         [[ 4.26031463e-02, -2.77584553e-01, -4.80404086e-02, ...,\n",
       "            1.87114403e-01, -2.65923887e-02, -8.87037590e-02],\n",
       "          [ 2.00612545e-01,  3.71047974e-01, -2.75521070e-01, ...,\n",
       "           -1.83038786e-02,  1.14839621e-01,  9.27421972e-02],\n",
       "          [ 8.00383762e-02, -6.64107203e-02, -7.46495873e-02, ...,\n",
       "            2.19960511e-01, -6.50169328e-02,  6.07806332e-02],\n",
       "          ...,\n",
       "          [ 8.23557153e-02, -3.42148155e-01, -2.09282994e-01, ...,\n",
       "            1.84233457e-01,  1.40362438e-02, -1.23995185e-01],\n",
       "          [ 1.99201748e-01,  1.80873126e-02, -9.80941281e-02, ...,\n",
       "            3.93405631e-02, -2.97467050e-04, -2.44894326e-01],\n",
       "          [ 2.44012661e-02,  8.39710310e-02, -1.21602878e-01, ...,\n",
       "            1.35055126e-03,  3.00437771e-02, -2.47018978e-01]]],\n",
       " \n",
       " \n",
       "        [[[-1.43445339e-02,  3.65136154e-02, -2.61927079e-02, ...,\n",
       "           -5.41312695e-02,  9.58635136e-02,  3.15016247e-02],\n",
       "          [-4.06879149e-02, -3.32204588e-02,  3.36340100e-01, ...,\n",
       "           -4.28703934e-01, -1.95352957e-01,  1.29456818e-01],\n",
       "          [-1.37524560e-01, -1.62103951e-01,  9.45709795e-02, ...,\n",
       "           -7.48401435e-05,  8.59286562e-02,  7.83328116e-02],\n",
       "          ...,\n",
       "          [-1.07431002e-02, -4.90230769e-02, -2.37840593e-01, ...,\n",
       "           -1.37513014e-03, -2.00054616e-01,  2.27443185e-02],\n",
       "          [-7.63249397e-02, -3.54598612e-01,  1.79001540e-01, ...,\n",
       "           -3.55879664e-01,  1.27433278e-02,  1.25353649e-01],\n",
       "          [ 6.00894261e-03, -5.27106039e-02,  8.34690854e-02, ...,\n",
       "           -7.80430436e-02,  2.49436453e-01,  8.61540362e-02]],\n",
       " \n",
       "         [[ 5.78857698e-02,  8.29386786e-02, -1.10205822e-01, ...,\n",
       "            5.27004451e-02, -6.49393201e-02,  1.53753117e-01],\n",
       "          [-8.73807147e-02, -1.17198706e-01,  1.70081019e-01, ...,\n",
       "           -4.32544380e-01, -1.03174850e-01,  2.05302432e-01],\n",
       "          [-3.24568115e-02, -1.10886887e-01, -1.45874962e-01, ...,\n",
       "            1.24975704e-01, -8.73831008e-03,  2.71868408e-02],\n",
       "          ...,\n",
       "          [-6.69130543e-03,  1.86702341e-01, -2.02366590e-01, ...,\n",
       "            1.89909950e-01, -2.58628249e-01, -6.36709668e-03],\n",
       "          [ 1.35756945e-02, -1.66782230e-01, -1.44230977e-01, ...,\n",
       "           -2.39315346e-01, -2.53063202e-01,  1.04305260e-01],\n",
       "          [-3.96652035e-02,  5.85968085e-02, -5.98105229e-02, ...,\n",
       "           -4.30172272e-02, -3.06721032e-01,  2.23636672e-01]],\n",
       " \n",
       "         [[ 1.89856440e-02, -2.79169232e-02, -6.11021668e-02, ...,\n",
       "            3.65112349e-02, -5.05572185e-02,  1.89568065e-02],\n",
       "          [-1.73812374e-01,  2.92991102e-01, -2.74836626e-02, ...,\n",
       "            5.28263412e-02, -2.63699479e-02,  7.35721514e-02],\n",
       "          [ 3.85433584e-02, -5.74298613e-02, -2.62480915e-01, ...,\n",
       "            5.55977225e-02, -1.15322433e-01,  5.33677302e-02],\n",
       "          ...,\n",
       "          [ 1.71618834e-01, -1.69062033e-01, -6.99886754e-02, ...,\n",
       "            3.82855870e-02,  2.99663953e-02, -1.67537406e-01],\n",
       "          [ 2.00465530e-01, -1.42158955e-01, -2.33103875e-02, ...,\n",
       "            2.56024068e-03,  2.54009590e-02, -4.98951636e-02],\n",
       "          [ 8.15946907e-02,  7.32315779e-02, -1.43631488e-01, ...,\n",
       "           -6.11316338e-02, -4.51703258e-02, -1.06306739e-01]]],\n",
       " \n",
       " \n",
       "        [[[ 1.43375285e-02, -2.06519365e-01, -1.32677620e-02, ...,\n",
       "           -2.05530271e-01,  5.47403917e-02, -1.11885712e-01],\n",
       "          [-4.09633994e-01,  8.94309282e-02,  5.46313301e-02, ...,\n",
       "            2.56657988e-01,  1.69860478e-02,  2.26010650e-01],\n",
       "          [-1.11011446e-01, -9.51883048e-02,  2.25620225e-01, ...,\n",
       "            7.15429522e-03, -1.63528249e-02, -1.27484083e-01],\n",
       "          ...,\n",
       "          [-5.16349566e-04, -9.85691100e-02,  1.84100151e-01, ...,\n",
       "           -6.52526319e-03, -2.20318690e-01, -2.29661673e-01],\n",
       "          [-8.66948813e-02, -1.35944426e-01, -2.51993537e-02, ...,\n",
       "            6.19166791e-02, -3.90348971e-01, -2.41967410e-01],\n",
       "          [-1.49649903e-01,  7.45417550e-02,  6.89111203e-02, ...,\n",
       "           -7.04269633e-02, -6.42672852e-02, -1.60548195e-01]],\n",
       " \n",
       "         [[ 9.45846662e-02, -8.56858268e-02,  7.65133053e-02, ...,\n",
       "           -8.90491679e-02, -1.45205364e-01,  1.15527846e-02],\n",
       "          [-7.17826962e-01, -2.00663999e-01,  5.09270132e-02, ...,\n",
       "           -1.23456098e-01, -2.12600887e-01, -9.94166508e-02],\n",
       "          [-3.29144038e-02, -1.82183787e-01,  1.59300044e-01, ...,\n",
       "           -4.30975482e-02, -1.93606958e-01, -8.09715539e-02],\n",
       "          ...,\n",
       "          [ 5.08896448e-02, -4.13289852e-03,  1.21178277e-01, ...,\n",
       "           -6.20867759e-02, -1.26525283e-01, -1.36246011e-01],\n",
       "          [-2.38419399e-01, -7.95411617e-02,  7.89576992e-02, ...,\n",
       "            1.52410166e-02, -2.67777354e-01, -1.68115750e-01],\n",
       "          [-1.72937751e-01, -1.88588444e-02,  6.82390779e-02, ...,\n",
       "           -4.65993546e-02, -2.68777639e-01, -9.79246870e-02]],\n",
       " \n",
       "         [[ 1.44901589e-01,  7.01216757e-02, -1.10891938e-01, ...,\n",
       "            4.98183407e-02, -2.28642225e-02,  1.75307691e-02],\n",
       "          [-2.11467564e-01,  1.91968620e-01,  1.24012917e-01, ...,\n",
       "           -1.26232088e-01, -8.85837972e-02, -4.73862551e-02],\n",
       "          [ 1.44760579e-01,  1.84673108e-02, -3.07142101e-02, ...,\n",
       "            1.76280625e-02, -1.50613859e-01,  2.04858165e-02],\n",
       "          ...,\n",
       "          [ 8.75100493e-02,  2.15572163e-01,  3.64905633e-02, ...,\n",
       "            1.15176536e-01,  4.59395610e-02, -4.51910831e-02],\n",
       "          [ 5.45244403e-02,  9.68978181e-02,  1.11825950e-01, ...,\n",
       "           -2.64603347e-02, -1.42110676e-01, -2.31975853e-01],\n",
       "          [ 1.01590768e-01,  7.21733049e-02,  1.19395204e-01, ...,\n",
       "           -7.96391368e-02, -7.23525509e-02, -3.08086779e-02]]]],\n",
       "       dtype=float32)>,\n",
       " <tf.Variable 'Conv2/bias:0' shape=(64,) dtype=float32, numpy=\n",
       " array([-0.04743088,  0.00323755,  0.0151097 , -0.01256198, -0.04280583,\n",
       "        -0.11425442,  0.01400324, -0.02937604, -0.00879118, -0.03010636,\n",
       "        -0.04965482, -0.04137548, -0.11001511, -0.03670472, -0.05669737,\n",
       "        -0.0043126 , -0.02242903, -0.04714151, -0.05628519, -0.02141128,\n",
       "        -0.08047931, -0.0624638 , -0.03238719, -0.04817764, -0.00680188,\n",
       "        -0.03003813,  0.0241802 , -0.0467586 , -0.0528049 ,  0.03924114,\n",
       "        -0.0757933 ,  0.01686006, -0.04029116, -0.00707266,  0.06469364,\n",
       "         0.05260347, -0.05092424, -0.0440066 ,  0.02697106,  0.01070814,\n",
       "        -0.03749902, -0.02981814, -0.06200792, -0.01726994, -0.05548597,\n",
       "        -0.01366668, -0.01198104, -0.02476286,  0.07486764, -0.01382883,\n",
       "        -0.05548539,  0.0136392 , -0.05431686, -0.07421133, -0.09021155,\n",
       "        -0.01895869, -0.00039469,  0.00568841, -0.0224358 ,  0.04165195,\n",
       "        -0.00995645, -0.01669668,  0.01800103, -0.05048865], dtype=float32)>]"
      ]
     },
     "execution_count": 15,
     "metadata": {},
     "output_type": "execute_result"
    }
   ],
   "source": [
    "model.get_layer('Conv2').weights"
   ]
  },
  {
   "cell_type": "code",
   "execution_count": 16,
   "metadata": {},
   "outputs": [
    {
     "data": {
      "text/plain": [
       "<tf.Tensor 'Conv3/Identity:0' shape=(None, 4, 4, 32) dtype=float32>"
      ]
     },
     "execution_count": 16,
     "metadata": {},
     "output_type": "execute_result"
    }
   ],
   "source": [
    "model.get_layer('Conv3').output"
   ]
  },
  {
   "cell_type": "code",
   "execution_count": 17,
   "metadata": {
    "scrolled": false
   },
   "outputs": [
    {
     "data": {
      "text/plain": [
       "[<tf.Variable 'Conv3/kernel:0' shape=(3, 3, 64, 32) dtype=float32, numpy=\n",
       " array([[[[ 1.04653813e-01, -1.77892119e-01, -2.25340903e-01, ...,\n",
       "           -1.64892510e-01,  5.46736585e-04,  1.46492064e-01],\n",
       "          [ 1.03272647e-01,  1.21007495e-01, -1.59482956e-01, ...,\n",
       "           -2.74485499e-01,  1.14914685e-01,  3.26049589e-02],\n",
       "          [ 1.97421201e-02,  1.63745172e-02, -1.59657195e-01, ...,\n",
       "            6.05224445e-02,  8.19709897e-02, -7.15971142e-02],\n",
       "          ...,\n",
       "          [ 5.70363887e-02, -1.47774369e-01,  5.80334216e-02, ...,\n",
       "            1.78936981e-02, -2.72630632e-01,  2.38270149e-01],\n",
       "          [ 5.99366277e-02, -3.87219526e-02,  1.86483085e-01, ...,\n",
       "            1.02859490e-01, -1.96313769e-01,  5.05243167e-02],\n",
       "          [-6.76684976e-02, -7.16565773e-02, -8.47261921e-02, ...,\n",
       "           -5.14677353e-02, -1.45157501e-01,  8.92115980e-02]],\n",
       " \n",
       "         [[-4.97369021e-02, -3.06051284e-01, -4.35694046e-02, ...,\n",
       "            3.81848440e-02,  1.61311194e-01, -8.25654194e-02],\n",
       "          [ 2.48653516e-02, -1.57879025e-01, -2.23927528e-01, ...,\n",
       "            5.72585054e-02,  4.00929227e-02,  4.40402813e-02],\n",
       "          [-2.07179531e-01, -8.66733342e-02, -3.04898974e-02, ...,\n",
       "           -2.67357916e-01, -4.27963436e-02, -1.14683010e-01],\n",
       "          ...,\n",
       "          [-1.70015424e-01, -1.08727299e-01,  1.49135351e-01, ...,\n",
       "            4.77290750e-02, -4.55539413e-02,  1.34072155e-01],\n",
       "          [-1.53717563e-01, -1.17209274e-03,  5.80801954e-03, ...,\n",
       "           -5.61135449e-02, -2.12900676e-02,  9.99403223e-02],\n",
       "          [-2.32695073e-01, -3.55545506e-02,  9.08668190e-02, ...,\n",
       "           -5.71448766e-02, -2.21151590e-01,  1.73800707e-01]],\n",
       " \n",
       "         [[-2.59708256e-01, -6.38446882e-02, -4.99171726e-02, ...,\n",
       "           -8.76993984e-02,  3.13842297e-02, -2.86208112e-02],\n",
       "          [-9.13929343e-02, -2.39853188e-01, -1.23691648e-01, ...,\n",
       "           -2.39260867e-02, -4.17355523e-02, -7.06153139e-02],\n",
       "          [ 4.63909581e-02, -4.94438484e-02,  4.30997508e-03, ...,\n",
       "           -2.11058974e-01,  4.63057077e-03, -2.54135400e-01],\n",
       "          ...,\n",
       "          [-8.65366086e-02, -1.33384511e-01, -7.56870508e-02, ...,\n",
       "           -2.27502137e-01,  1.39230058e-01,  6.16397634e-02],\n",
       "          [-6.81449994e-02, -2.69400179e-01, -4.74190451e-02, ...,\n",
       "           -5.46079986e-02,  1.95684388e-01,  2.46449172e-01],\n",
       "          [-2.67373204e-01, -2.65393816e-02,  4.44454513e-02, ...,\n",
       "           -1.66038901e-01,  5.31916134e-02,  1.26042262e-01]]],\n",
       " \n",
       " \n",
       "        [[[-3.46507281e-02,  6.35416806e-02, -3.18176188e-02, ...,\n",
       "           -4.15941864e-01, -1.85434185e-02, -8.88395980e-02],\n",
       "          [ 2.77569089e-02,  6.13746606e-02, -2.09423214e-01, ...,\n",
       "           -5.31752706e-02,  2.84636736e-01, -9.91582945e-02],\n",
       "          [-5.77339455e-02,  7.59411976e-02, -1.27698675e-01, ...,\n",
       "            3.09704840e-01, -8.93496275e-02,  5.58292419e-02],\n",
       "          ...,\n",
       "          [ 3.72606516e-02, -3.73944603e-02, -1.51114047e-01, ...,\n",
       "           -2.36259580e-01,  1.77890047e-01, -1.40294358e-01],\n",
       "          [-3.97402681e-02,  1.45630166e-02, -2.85491981e-02, ...,\n",
       "           -1.88064590e-01, -5.06758802e-02, -1.31917313e-01],\n",
       "          [ 4.71430570e-02,  7.97256604e-02, -1.26588317e-02, ...,\n",
       "           -1.94196969e-01,  1.17436782e-01, -1.19566105e-01]],\n",
       " \n",
       "         [[-1.48871318e-01, -2.65899241e-01, -2.24159230e-02, ...,\n",
       "           -8.13289285e-02,  2.06312798e-02,  6.73376694e-02],\n",
       "          [ 2.75161006e-02,  1.11609232e-02, -3.59293133e-01, ...,\n",
       "            1.39128447e-01, -5.72899543e-03, -1.75324038e-01],\n",
       "          [ 6.28884584e-02,  2.30778903e-01, -1.36669785e-01, ...,\n",
       "           -1.13156177e-01, -1.63040161e-01,  1.95790857e-01],\n",
       "          ...,\n",
       "          [ 5.36286980e-02, -1.40903413e-01,  4.79968488e-02, ...,\n",
       "           -2.36990705e-01, -3.32881995e-02, -4.36128110e-01],\n",
       "          [-1.26734585e-01, -1.31684467e-01,  1.06432617e-01, ...,\n",
       "           -1.85136035e-01,  3.57207283e-02, -1.72883525e-01],\n",
       "          [-7.84064606e-02, -2.77119845e-01,  2.38125548e-02, ...,\n",
       "           -1.71346053e-01,  6.22231700e-02, -7.90211558e-02]],\n",
       " \n",
       "         [[-1.15814418e-01,  4.64902893e-02, -6.91642985e-02, ...,\n",
       "            6.82810321e-02,  6.19818941e-02,  3.28070521e-02],\n",
       "          [ 1.90145284e-01,  9.39587057e-02,  4.34594415e-02, ...,\n",
       "           -7.45869428e-02, -1.28331751e-01, -1.13820240e-01],\n",
       "          [-2.23133564e-01, -1.24344580e-01, -1.33744135e-01, ...,\n",
       "           -2.95571033e-02, -1.20254189e-01,  1.81207061e-01],\n",
       "          ...,\n",
       "          [-5.55218935e-01,  1.02154411e-01,  8.77627730e-02, ...,\n",
       "           -7.86954835e-02,  1.45377999e-03, -3.99556994e-01],\n",
       "          [-2.73908693e-02, -8.49639848e-02,  1.53950835e-03, ...,\n",
       "           -1.36130437e-01,  2.37384662e-01, -5.25195748e-02],\n",
       "          [-9.33249593e-02,  8.85491166e-03,  1.98171645e-01, ...,\n",
       "           -1.70289502e-01, -1.57272190e-01,  2.47804642e-01]]],\n",
       " \n",
       " \n",
       "        [[[-1.06239110e-01,  1.41197145e-01,  2.62264088e-02, ...,\n",
       "            1.68617651e-01,  1.39257871e-02,  5.72750717e-02],\n",
       "          [ 1.91867277e-02,  1.58934057e-01,  1.94283634e-01, ...,\n",
       "            2.88833201e-01, -1.47087965e-02, -1.55037567e-01],\n",
       "          [-3.36623564e-02, -2.17193007e-01,  3.43599319e-02, ...,\n",
       "            2.51794338e-01, -6.27147481e-02,  9.38093066e-02],\n",
       "          ...,\n",
       "          [-1.02799267e-01,  1.26932308e-01,  1.32006824e-01, ...,\n",
       "           -7.29097202e-02,  1.34209013e-02,  1.15394197e-01],\n",
       "          [-3.32947858e-02,  8.77835676e-02,  4.38659787e-02, ...,\n",
       "            2.57017434e-01, -8.87529030e-02,  1.13198392e-01],\n",
       "          [ 1.43451750e-01,  1.02275483e-01,  2.30488461e-02, ...,\n",
       "            1.66700073e-02,  1.30079258e-02,  1.37060210e-02]],\n",
       " \n",
       "         [[ 8.32014680e-02,  1.30875722e-01,  9.67782214e-02, ...,\n",
       "           -1.21650890e-01, -1.82329938e-01, -1.47112563e-01],\n",
       "          [-2.24012714e-02, -1.32271022e-01,  2.25528970e-01, ...,\n",
       "           -2.70799726e-01, -1.11804098e-01, -1.66467309e-01],\n",
       "          [-3.05090044e-02,  2.57562194e-02,  1.00856990e-01, ...,\n",
       "            2.26888910e-01,  6.14040159e-02,  6.02880530e-02],\n",
       "          ...,\n",
       "          [-1.33284703e-01, -2.73705065e-01,  1.89336106e-01, ...,\n",
       "           -5.23216128e-01,  1.54089719e-01,  4.46053967e-02],\n",
       "          [-7.50247911e-02, -2.74222307e-02,  3.16984579e-02, ...,\n",
       "           -1.17413111e-01, -1.17917329e-01, -5.27099520e-02],\n",
       "          [ 2.10129172e-02, -7.56770819e-02, -8.89392793e-02, ...,\n",
       "           -6.54057562e-02, -2.33748779e-01, -8.85538384e-02]],\n",
       " \n",
       "         [[ 9.41213816e-02,  6.92064837e-02, -2.48586670e-01, ...,\n",
       "           -1.68818519e-01, -2.41687655e-01, -7.44037777e-02],\n",
       "          [ 2.33606488e-01,  7.54800765e-03,  8.86747912e-02, ...,\n",
       "           -2.02226326e-01, -4.17339176e-01, -3.32984491e-03],\n",
       "          [ 1.89609788e-02,  4.05254364e-02,  1.59485608e-01, ...,\n",
       "            1.01679917e-02,  1.08904071e-01,  4.44983318e-02],\n",
       "          ...,\n",
       "          [ 3.53486426e-02,  5.33412583e-02, -1.27181098e-01, ...,\n",
       "           -2.90946752e-01, -2.61492431e-01, -4.59871404e-02],\n",
       "          [-1.83671400e-01, -1.12643607e-01, -1.61421567e-01, ...,\n",
       "           -2.07740515e-01, -7.41181597e-02, -9.63421240e-02],\n",
       "          [ 3.11954141e-01,  5.19319903e-03, -1.54032722e-01, ...,\n",
       "           -4.40556228e-01, -3.38550329e-01, -6.82424158e-02]]]],\n",
       "       dtype=float32)>,\n",
       " <tf.Variable 'Conv3/bias:0' shape=(32,) dtype=float32, numpy=\n",
       " array([ 0.04631074, -0.0059583 , -0.05649097,  0.01312273,  0.01796754,\n",
       "        -0.03876363,  0.09275398, -0.01362996,  0.08448204, -0.02933084,\n",
       "        -0.04875629,  0.07129671, -0.03907393,  0.00529655, -0.04174361,\n",
       "         0.05449525, -0.00099187,  0.0237507 ,  0.05480468,  0.00976593,\n",
       "        -0.06976996, -0.02101465, -0.00549137, -0.06964155, -0.01170513,\n",
       "         0.0522938 ,  0.00174967, -0.00344422,  0.0149537 ,  0.01516907,\n",
       "         0.04467464, -0.07755166], dtype=float32)>]"
      ]
     },
     "execution_count": 17,
     "metadata": {},
     "output_type": "execute_result"
    }
   ],
   "source": [
    "model.get_layer('Conv3').weights"
   ]
  },
  {
   "cell_type": "code",
   "execution_count": 18,
   "metadata": {},
   "outputs": [
    {
     "name": "stdout",
     "output_type": "stream",
     "text": [
      "\r",
      "10000/1 [===] - 0s 13us/sample - loss: 0.0233 - accuracy: 0.9889\n"
     ]
    },
    {
     "data": {
      "text/plain": [
       "[0.046578623982251884, 0.9889]"
      ]
     },
     "execution_count": 18,
     "metadata": {},
     "output_type": "execute_result"
    }
   ],
   "source": [
    "model.evaluate(test_images,  test_labels, verbose=1,batch_size=128)"
   ]
  },
  {
   "cell_type": "code",
   "execution_count": 19,
   "metadata": {},
   "outputs": [
    {
     "name": "stdout",
     "output_type": "stream",
     "text": [
      "\r",
      "60000/1 [=======] - 1s 11us/sample - loss: 0.0428 - accuracy: 0.9972\n"
     ]
    },
    {
     "data": {
      "text/plain": [
       "[0.008673354774294421, 0.99721664]"
      ]
     },
     "execution_count": 19,
     "metadata": {},
     "output_type": "execute_result"
    }
   ],
   "source": [
    "model.evaluate(train_images,  train_labels, verbose=1,batch_size=128)"
   ]
  },
  {
   "cell_type": "code",
   "execution_count": null,
   "metadata": {},
   "outputs": [],
   "source": []
  }
 ],
 "metadata": {
  "kernelspec": {
   "display_name": "Python 3",
   "language": "python",
   "name": "python3"
  },
  "language_info": {
   "codemirror_mode": {
    "name": "ipython",
    "version": 3
   },
   "file_extension": ".py",
   "mimetype": "text/x-python",
   "name": "python",
   "nbconvert_exporter": "python",
   "pygments_lexer": "ipython3",
   "version": "3.5.6"
  }
 },
 "nbformat": 4,
 "nbformat_minor": 2
}
