{
 "cells": [
  {
   "cell_type": "code",
   "execution_count": 2,
   "metadata": {},
   "outputs": [],
   "source": [
    "from __future__ import absolute_import, division, print_function, unicode_literals\n",
    "\n",
    "import tensorflow as tf\n",
    "gpus = tf.config.experimental.list_physical_devices('GPU')\n",
    "if gpus:\n",
    "    try:\n",
    "        # Currently, memory growth needs to be the same across GPUs\n",
    "        for gpu in gpus:\n",
    "            tf.config.experimental.set_memory_growth(gpu, True)\n",
    "        logical_gpus = tf.config.experimental.list_logical_devices('GPU')\n",
    "        print(len(gpus), \"Physical GPUs,\", len(logical_gpus), \"Logical GPUs\")\n",
    "    except RuntimeError as e:\n",
    "        # Memory growth must be set before GPUs have been initialized\n",
    "        print(e)\n",
    "\n",
    "from tensorflow.keras import datasets, layers, models\n",
    "import matplotlib.pyplot as plt\n",
    "import numpy as np\n",
    "import base64\n"
   ]
  },
  {
   "cell_type": "code",
   "execution_count": 3,
   "metadata": {},
   "outputs": [],
   "source": [
    "(train_images, train_labels), (test_images, test_labels) = tf.keras.datasets.mnist.load_data()\n",
    "\n",
    "train_images = train_images.reshape(train_images.shape[0], 28, 28, 1)\n",
    "test_images = test_images.reshape(test_images.shape[0], 28, 28, 1)\n",
    "\n",
    "train_images = train_images.astype('float32')\n",
    "test_images = test_images.astype('float32')\n",
    "\n",
    "# Normalize pixel values to be between 0 and 1\n",
    "train_images, test_images = train_images / 255.0, test_images / 255.0"
   ]
  },
  {
   "cell_type": "code",
   "execution_count": 4,
   "metadata": {},
   "outputs": [
    {
     "data": {
      "image/png": "[encoded data removed]",
      "text/plain": [
       "<Figure size 720x720 with 25 Axes>"
      ]
     },
     "metadata": {},
     "output_type": "display_data"
    }
   ],
   "source": [
    "class_names = ['0', '1', '2', '3', '4',\n",
    "               '5', '6', '7', '8', '9']\n",
    "\n",
    "plt.figure(figsize=(10,10))\n",
    "for i in range(25):\n",
    "    plt.subplot(5,5,i+1)\n",
    "    plt.xticks([])\n",
    "    plt.yticks([])\n",
    "    plt.grid(False)\n",
    "    plt.imshow(X=np.squeeze(train_images[i]), cmap=plt.cm.binary)\n",
    "    plt.xlabel(class_names[train_labels[i]])\n",
    "#plt.show()"
   ]
  },
  {
   "cell_type": "code",
   "execution_count": 5,
   "metadata": {},
   "outputs": [
    {
     "name": "stdout",
     "output_type": "stream",
     "text": [
      "Model: \"sequential\"\n",
      "_________________________________________________________________\n",
      "Layer (type)                 Output Shape              Param #   \n",
      "=================================================================\n",
      "Conv1 (Conv2D)               (None, 13, 13, 5)         50        \n",
      "_________________________________________________________________\n",
      "Conv2 (Conv2D)               (None, 11, 11, 5)         230       \n",
      "_________________________________________________________________\n",
      "Conv3 (Conv2D)               (None, 9, 9, 5)           230       \n",
      "_________________________________________________________________\n",
      "Flatten (Flatten)            (None, 405)               0         \n",
      "_________________________________________________________________\n",
      "Dense (Dense)                (None, 16)                6496      \n",
      "_________________________________________________________________\n",
      "Soft (Dense)                 (None, 10)                170       \n",
      "=================================================================\n",
      "Total params: 7,176\n",
      "Trainable params: 7,176\n",
      "Non-trainable params: 0\n",
      "_________________________________________________________________\n"
     ]
    }
   ],
   "source": [
    "model = models.Sequential()\n",
    "model.add(layers.Conv2D(filters=5,kernel_size=(3, 3),strides=(2,2),name='Conv1', activation='relu', input_shape=(28, 28, 1)))\n",
    "model.add(layers.Conv2D(filters=5, kernel_size=(3, 3),strides=(1,1),name='Conv2', activation='relu'))\n",
    "model.add(layers.Conv2D(filters=5, kernel_size=(3, 3) ,strides=(1,1),name='Conv3', activation='relu'))\n",
    "model.add(layers.Flatten(name='Flatten'))\n",
    "model.add(layers.Dense(16,name='Dense', activation='relu'))\n",
    "model.add(layers.Dense(10,name='Soft', activation='softmax'))\n",
    "model.summary()"
   ]
  },
  {
   "cell_type": "code",
   "execution_count": 6,
   "metadata": {},
   "outputs": [
    {
     "name": "stdout",
     "output_type": "stream",
     "text": [
      "Model: \"sequential\"\n",
      "_________________________________________________________________\n",
      "Layer (type)                 Output Shape              Param #   \n",
      "=================================================================\n",
      "Conv1 (Conv2D)               (None, 13, 13, 5)         50        \n",
      "_________________________________________________________________\n",
      "Conv2 (Conv2D)               (None, 11, 11, 5)         230       \n",
      "_________________________________________________________________\n",
      "Conv3 (Conv2D)               (None, 9, 9, 5)           230       \n",
      "_________________________________________________________________\n",
      "Flatten (Flatten)            (None, 405)               0         \n",
      "_________________________________________________________________\n",
      "Dense (Dense)                (None, 16)                6496      \n",
      "_________________________________________________________________\n",
      "Soft (Dense)                 (None, 10)                170       \n",
      "=================================================================\n",
      "Total params: 7,176\n",
      "Trainable params: 7,176\n",
      "Non-trainable params: 0\n",
      "_________________________________________________________________\n"
     ]
    }
   ],
   "source": [
    "model.summary()"
   ]
  },
  {
   "cell_type": "code",
   "execution_count": 7,
   "metadata": {},
   "outputs": [],
   "source": [
    "model.compile(optimizer='adam',\n",
    "              loss='sparse_categorical_crossentropy',\n",
    "              metrics=['accuracy'])"
   ]
  },
  {
   "cell_type": "code",
   "execution_count": 8,
   "metadata": {
    "scrolled": false
   },
   "outputs": [
    {
     "name": "stdout",
     "output_type": "stream",
     "text": [
      "Epoch 1/10\n",
      "1875/1875 [==============================] - 4s 2ms/step - loss: 0.3142 - accuracy: 0.9040 - val_loss: 0.1217 - val_accuracy: 0.9644\n",
      "Epoch 2/10\n",
      "1875/1875 [==============================] - 4s 2ms/step - loss: 0.1076 - accuracy: 0.9682 - val_loss: 0.0767 - val_accuracy: 0.9744\n",
      "Epoch 3/10\n",
      "1875/1875 [==============================] - 4s 2ms/step - loss: 0.0840 - accuracy: 0.9748 - val_loss: 0.0725 - val_accuracy: 0.9761\n",
      "Epoch 4/10\n",
      "1875/1875 [==============================] - 4s 2ms/step - loss: 0.0717 - accuracy: 0.9784 - val_loss: 0.0566 - val_accuracy: 0.9822\n",
      "Epoch 5/10\n",
      "1875/1875 [==============================] - 4s 2ms/step - loss: 0.0636 - accuracy: 0.9811 - val_loss: 0.0659 - val_accuracy: 0.9781\n",
      "Epoch 6/10\n",
      "1875/1875 [==============================] - 4s 2ms/step - loss: 0.0570 - accuracy: 0.9824 - val_loss: 0.0498 - val_accuracy: 0.9847\n",
      "Epoch 7/10\n",
      "1875/1875 [==============================] - 4s 2ms/step - loss: 0.0516 - accuracy: 0.9841 - val_loss: 0.0525 - val_accuracy: 0.9843\n",
      "Epoch 8/10\n",
      "1875/1875 [==============================] - 4s 2ms/step - loss: 0.0481 - accuracy: 0.9853 - val_loss: 0.0491 - val_accuracy: 0.9847\n",
      "Epoch 9/10\n",
      "1875/1875 [==============================] - 4s 2ms/step - loss: 0.0439 - accuracy: 0.9861 - val_loss: 0.0552 - val_accuracy: 0.9825\n",
      "Epoch 10/10\n",
      "1875/1875 [==============================] - 4s 2ms/step - loss: 0.0414 - accuracy: 0.9868 - val_loss: 0.0448 - val_accuracy: 0.9851\n"
     ]
    }
   ],
   "source": [
    "history = model.fit(train_images, train_labels, epochs=10,validation_data=(test_images, test_labels))\n",
    "#history = model.fit(train_images, train_labels, epochs=10)"
   ]
  },
  {
   "cell_type": "code",
   "execution_count": 9,
   "metadata": {},
   "outputs": [],
   "source": [
    "def SaveModel(my_model,fileSTR):\n",
    "    totalbytes=0\n",
    "    Wmodel = open(\"./Mokka/\"+fileSTR, \"wb\")\n",
    "    for x in my_model.weights:\n",
    "        nn = x.numpy()\n",
    "        T = nn\n",
    "        v = np.ndarray.tobytes(T)\n",
    "        Wmodel.write(bytearray(v))\n",
    "        totalbytes+=len(v)\n",
    "        print(x.name, len(v),\" dims:\",nn.ndim,\" \", T.shape)\n",
    "    Wmodel.close()\n",
    "    print(\"Total bytes:\"+str(totalbytes))\n"
   ]
  },
  {
   "cell_type": "code",
   "execution_count": 10,
   "metadata": {},
   "outputs": [
    {
     "name": "stdout",
     "output_type": "stream",
     "text": [
      "Conv1/kernel:0 180  dims: 4   (3, 3, 1, 5)\n",
      "Conv1/bias:0 20  dims: 1   (5,)\n",
      "Conv2/kernel:0 900  dims: 4   (3, 3, 5, 5)\n",
      "Conv2/bias:0 20  dims: 1   (5,)\n",
      "Conv3/kernel:0 900  dims: 4   (3, 3, 5, 5)\n",
      "Conv3/bias:0 20  dims: 1   (5,)\n",
      "Dense/kernel:0 25920  dims: 2   (405, 16)\n",
      "Dense/bias:0 64  dims: 1   (16,)\n",
      "Soft/kernel:0 640  dims: 2   (16, 10)\n",
      "Soft/bias:0 40  dims: 1   (10,)\n",
      "Total bytes:28704\n"
     ]
    }
   ],
   "source": [
    "SaveModel(model,\"CNN_T.weights\")"
   ]
  },
  {
   "cell_type": "code",
   "execution_count": 16,
   "metadata": {},
   "outputs": [
    {
     "name": "stdout",
     "output_type": "stream",
     "text": [
      "10000/10000 [==============================] - 7s 676us/step - loss: 0.0448 - accuracy: 0.9851\n",
      "60000/60000 [==============================] - 40s 672us/step - loss: 0.0310 - accuracy: 0.9904\n"
     ]
    },
    {
     "data": {
      "text/plain": [
       "[0.031046591699123383, 0.9904166460037231]"
      ]
     },
     "execution_count": 16,
     "metadata": {},
     "output_type": "execute_result"
    }
   ],
   "source": [
    "model.evaluate(test_images,  test_labels, verbose=1,batch_size=1)\n",
    "model.evaluate(train_images,  train_labels, verbose=1,batch_size=1)"
   ]
  },
  {
   "cell_type": "code",
   "execution_count": null,
   "metadata": {},
   "outputs": [],
   "source": []
  }
 ],
 "metadata": {
  "kernelspec": {
   "display_name": "Python 3",
   "language": "python",
   "name": "python3"
  },
  "language_info": {
   "codemirror_mode": {
    "name": "ipython",
    "version": 3
   },
   "file_extension": ".py",
   "mimetype": "text/x-python",
   "name": "python",
   "nbconvert_exporter": "python",
   "pygments_lexer": "ipython3",
   "version": "3.8.10"
  }
 },
 "nbformat": 4,
 "nbformat_minor": 2
}
